{
 "cells": [
  {
   "cell_type": "code",
   "execution_count": 1,
   "metadata": {},
   "outputs": [],
   "source": [
    "import random\n",
    "import numpy as np\n",
    "import matplotlib.pyplot as plt\n",
    "from sklearn.cluster import KMeans\n",
    "from sklearn.datasets import make_blobs\n",
    "from util import k_means_plot"
   ]
  },
  {
   "cell_type": "code",
   "execution_count": null,
   "metadata": {},
   "outputs": [],
   "source": [
    "# Generate random data\n",
    "np.random.seed(0)\n",
    "Feature_Matrix, Response_Vector = make_blobs(n_samples=5000, \n",
    "    centers=[[4,4],[-2, -1], [2, -3], [1, 1]], \n",
    "    cluster_std=0.9)\n",
    "plt.scatter(Feature_Matrix[:, 0], Feature_Matrix[:, 1], marker='.')\n",
    "plt.show()"
   ]
  },
  {
   "cell_type": "markdown",
   "metadata": {},
   "source": [
    "### Setting up K-Means"
   ]
  },
  {
   "cell_type": "code",
   "execution_count": null,
   "metadata": {},
   "outputs": [],
   "source": [
    "k_means = KMeans(init = \"k-means++\", n_clusters = 4, n_init = 12)\n",
    "# n_init: Number of time the k-means algorithm will be run with different centroid seeds.\n",
    "# n_clusters: The number of clusters to form as well as the number of centroids to generate.\n",
    "k_means.fit(Feature_Matrix)"
   ]
  },
  {
   "cell_type": "code",
   "execution_count": null,
   "metadata": {},
   "outputs": [],
   "source": [
    "labels = k_means.labels_\n",
    "np.unique(labels)"
   ]
  },
  {
   "cell_type": "code",
   "execution_count": null,
   "metadata": {},
   "outputs": [],
   "source": [
    "cluster_centers = k_means.cluster_centers_\n",
    "print(cluster_centers)\n",
    "len(cluster_centers)"
   ]
  },
  {
   "cell_type": "code",
   "execution_count": null,
   "metadata": {},
   "outputs": [],
   "source": [
    "k_means_plot(labels, cluster_centers, Feature_Matrix)"
   ]
  },
  {
   "cell_type": "markdown",
   "metadata": {},
   "source": [
    "### Customer Segmentation "
   ]
  },
  {
   "cell_type": "code",
   "execution_count": null,
   "metadata": {},
   "outputs": [],
   "source": [
    "import pandas as pd\n",
    "df = pd.read_csv(\"data/cust_segmentation.csv\")\n",
    "df.dtypes"
   ]
  },
  {
   "cell_type": "code",
   "execution_count": null,
   "metadata": {},
   "outputs": [],
   "source": [
    "# K-means doesn't like catagorial data\n",
    "df = df.drop('Address', axis=1)\n",
    "df.head()\n"
   ]
  },
  {
   "cell_type": "code",
   "execution_count": null,
   "metadata": {},
   "outputs": [],
   "source": [
    "from sklearn.preprocessing import StandardScaler\n",
    "from sklearn.cluster import KMeans\n",
    "import numpy as np\n",
    "\n",
    "# Extracting features from the DataFrame\n",
    "X = df.values[:, 1:]  # Assuming df is already defined\n",
    "X = np.nan_to_num(X)  # Replace NaN values with 0 or other numerical values\n",
    "\n",
    "# Standardizing the dataset\n",
    "Clus_dataSet = StandardScaler().fit_transform(X)\n",
    "\n",
    "# Setting up K-means\n",
    "clusterNum = 3\n",
    "k_means = KMeans(init=\"k-means++\", n_clusters=clusterNum, n_init=12)\n",
    "\n",
    "# Fitting K-means on the standardized dataset\n",
    "k_means.fit(Clus_dataSet)\n",
    "\n",
    "# Getting the labels\n",
    "labels = k_means.labels_\n",
    "print(labels)"
   ]
  },
  {
   "cell_type": "markdown",
   "metadata": {},
   "source": [
    "### Insights"
   ]
  },
  {
   "cell_type": "code",
   "execution_count": null,
   "metadata": {},
   "outputs": [],
   "source": [
    "df[\"Clus_km\"] = labels\n",
    "df.head(5)"
   ]
  },
  {
   "cell_type": "code",
   "execution_count": null,
   "metadata": {},
   "outputs": [],
   "source": [
    "# Check the centroid values by averaging the features in each cluster\n",
    "df.groupby('Clus_km').mean()"
   ]
  },
  {
   "cell_type": "code",
   "execution_count": null,
   "metadata": {},
   "outputs": [],
   "source": [
    "area = np.pi * ( X[:, 1])**2  \n",
    "plt.scatter(Clus_dataSet[:, 0], X[:, 3], s=area, c=labels.astype(float), alpha=0.5)\n",
    "plt.xlabel('Age', fontsize=18)\n",
    "plt.ylabel('Income', fontsize=16)\n",
    "\n",
    "plt.show()"
   ]
  },
  {
   "cell_type": "code",
   "execution_count": null,
   "metadata": {},
   "outputs": [],
   "source": [
    "import matplotlib.pyplot as plt\n",
    "import numpy as np\n",
    "\n",
    "# Assuming Clus_dataSet is the standardized dataset and labels are from K-means\n",
    "# For simplicity, use the first two features for visualization\n",
    "x_feature = Clus_dataSet[:, 0]  # First feature\n",
    "y_feature = Clus_dataSet[:, 3]  # Second feature\n",
    "\n",
    "# Create a scatter plot with colors based on cluster labels\n",
    "plt.figure(figsize=(8, 6))\n",
    "plt.scatter(x_feature, y_feature, c=labels, cmap='viridis', marker='o', s=50, alpha=0.7)\n",
    "\n",
    "# Add cluster centroids\n",
    "centroids = StandardScaler().fit_transform(k_means.cluster_centers_)\n",
    "# centroids = k_means.cluster_centers_  # Get centroids\n",
    "plt.scatter(centroids[:, 0], centroids[:, 1], c='red', marker='x', s=200, label='Centroids')\n",
    "\n",
    "# Add plot details\n",
    "plt.title(\"K-Means Clustering Results\")\n",
    "plt.xlabel(\"Feature 1\")\n",
    "plt.ylabel(\"Feature 2\")\n",
    "plt.legend()\n",
    "plt.grid()\n",
    "plt.show()\n"
   ]
  },
  {
   "cell_type": "code",
   "execution_count": null,
   "metadata": {},
   "outputs": [],
   "source": [
    "from sklearn.decomposition import PCA\n",
    "\n",
    "# Reduce data to 2 dimensions for visualization\n",
    "pca = PCA(n_components=2)\n",
    "reduced_data = pca.fit_transform(Clus_dataSet)\n",
    "\n",
    "# Visualize the clusters in reduced 2D space\n",
    "plt.scatter(reduced_data[:, 0], reduced_data[:, 1], c=labels, cmap='viridis', marker='o', s=50, alpha=0.7)\n",
    "plt.scatter(centroids[:, 0], centroids[:, 1], c='red', marker='x', s=200, label='Centroids')\n",
    "plt.title(\"K-Means Clustering Results (PCA Reduced)\")\n",
    "plt.xlabel(\"PCA Component 1\")\n",
    "plt.ylabel(\"PCA Component 2\")\n",
    "plt.legend()\n",
    "plt.grid()"
   ]
  }
 ],
 "metadata": {
  "kernelspec": {
   "display_name": "dsfs",
   "language": "python",
   "name": "python3"
  },
  "language_info": {
   "codemirror_mode": {
    "name": "ipython",
    "version": 3
   },
   "file_extension": ".py",
   "mimetype": "text/x-python",
   "name": "python",
   "nbconvert_exporter": "python",
   "pygments_lexer": "ipython3",
   "version": "3.11.5"
  }
 },
 "nbformat": 4,
 "nbformat_minor": 2
}
