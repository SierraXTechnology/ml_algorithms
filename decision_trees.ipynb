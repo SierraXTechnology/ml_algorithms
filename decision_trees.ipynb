{
 "cells": [
  {
   "cell_type": "code",
   "execution_count": null,
   "metadata": {},
   "outputs": [],
   "source": [
    "%pip install scikit-learn pandas numpy matplotlib\n",
    "import matplotlib.pyplot as plt\n",
    "import pandas as pd\n",
    "import numpy as np\n",
    "from sklearn.tree import DecisionTreeClassifier\n",
    "\n",
    "df = pd.read_csv('data/drug200.csv')\n",
    "\n",
    "# X = Feature Matrix\n",
    "X = df[['Age','Sex','BP','Cholesterol','Na_to_K']].values #.values converts the dataframe to a numpy array\n",
    "\n",
    "# Convert categorical variable into dummy/indicator variables\n",
    "from sklearn import preprocessing\n",
    "le = preprocessing.LabelEncoder()\n",
    "le.fit(['F','M'])\n",
    "X[:,1] = le.transform(X[:,1])\n",
    "\n",
    "le.fit([ 'LOW', 'NORMAL', 'HIGH'])\n",
    "X[:,2] = le.transform(X[:,2])\n",
    "\n",
    "le.fit([ 'NORMAL', 'HIGH'])\n",
    "X[:,3] = le.transform(X[:,3])\n",
    "\n",
    "# y = response vector(target variable)\n",
    "y = df['Drug']\n"
   ]
  },
  {
   "cell_type": "markdown",
   "metadata": {},
   "source": [
    "### Setting up the Decision Tree"
   ]
  },
  {
   "cell_type": "code",
   "execution_count": 11,
   "metadata": {},
   "outputs": [
    {
     "data": {
      "text/plain": [
       "((140, 5), (140,))"
      ]
     },
     "execution_count": 11,
     "metadata": {},
     "output_type": "execute_result"
    }
   ],
   "source": [
    "from sklearn.model_selection import train_test_split\n",
    "X_train, X_test, y_train, y_test = train_test_split(X, y, test_size=0.3, random_state=3)\n",
    "\n",
    "X_train.shape, y_train.shape"
   ]
  },
  {
   "cell_type": "markdown",
   "metadata": {},
   "source": [
    "#### Decision tree criteria options\t\n",
    "1.\tUse gini for general-purpose tasks where computational efficiency is key.\n",
    "2.\tUse entropy if you want splits that minimize randomness in the target variable (small classes may benefit).\n",
    "3.\tUse log_loss for probabilistic tasks or when working with predicted probabilities."
   ]
  },
  {
   "cell_type": "code",
   "execution_count": null,
   "metadata": {},
   "outputs": [],
   "source": [
    "model = DecisionTreeClassifier(criterion=\"entropy\", max_depth = 4)\n",
    "model.fit(X_train,y_train)\n",
    "y_test_ = model.predict(X_test)\n",
    "print(y_test_[0:5])\n",
    "print(y_test[0:5].values)\n"
   ]
  },
  {
   "cell_type": "markdown",
   "metadata": {},
   "source": [
    "### Evaluation"
   ]
  },
  {
   "cell_type": "code",
   "execution_count": null,
   "metadata": {},
   "outputs": [],
   "source": [
    "from sklearn import metrics\n",
    "print(\"DecisionTree's Training Data Accuracy: \", metrics.accuracy_score(y_train, model.predict(X_train)))\n",
    "print(\"DecisionTree's Accuracy: \", metrics.accuracy_score(y_test, y_test_))"
   ]
  },
  {
   "cell_type": "code",
   "execution_count": 17,
   "metadata": {},
   "outputs": [],
   "source": [
    "from sklearn.tree import export_graphviz\n",
    "export_graphviz(model, out_file='tree.dot', filled=True, feature_names=['Age', 'Sex', 'BP', 'Cholesterol', 'Na_to_K'])\n",
    "!dot -Tpng tree.dot -o tree.png"
   ]
  }
 ],
 "metadata": {
  "kernelspec": {
   "display_name": "dsfs",
   "language": "python",
   "name": "python3"
  },
  "language_info": {
   "codemirror_mode": {
    "name": "ipython",
    "version": 3
   },
   "file_extension": ".py",
   "mimetype": "text/x-python",
   "name": "python",
   "nbconvert_exporter": "python",
   "pygments_lexer": "ipython3",
   "version": "3.11.5"
  }
 },
 "nbformat": 4,
 "nbformat_minor": 2
}
