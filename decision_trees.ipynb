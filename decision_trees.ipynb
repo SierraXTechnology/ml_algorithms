{
 "cells": [
  {
   "cell_type": "code",
   "execution_count": 10,
   "metadata": {},
   "outputs": [
    {
     "name": "stdout",
     "output_type": "stream",
     "text": [
      "Requirement already satisfied: scikit-learn in /Users/mark/anaconda3/envs/dsfs/lib/python3.11/site-packages (1.3.2)\n",
      "Requirement already satisfied: pandas in /Users/mark/anaconda3/envs/dsfs/lib/python3.11/site-packages (2.1.4)\n",
      "Requirement already satisfied: numpy in /Users/mark/anaconda3/envs/dsfs/lib/python3.11/site-packages (1.26.1)\n",
      "Requirement already satisfied: matplotlib in /Users/mark/anaconda3/envs/dsfs/lib/python3.11/site-packages (3.8.1)\n",
      "Requirement already satisfied: scipy>=1.5.0 in /Users/mark/anaconda3/envs/dsfs/lib/python3.11/site-packages (from scikit-learn) (1.11.4)\n",
      "Requirement already satisfied: joblib>=1.1.1 in /Users/mark/anaconda3/envs/dsfs/lib/python3.11/site-packages (from scikit-learn) (1.3.2)\n",
      "Requirement already satisfied: threadpoolctl>=2.0.0 in /Users/mark/anaconda3/envs/dsfs/lib/python3.11/site-packages (from scikit-learn) (3.2.0)\n",
      "Requirement already satisfied: python-dateutil>=2.8.2 in /Users/mark/anaconda3/envs/dsfs/lib/python3.11/site-packages (from pandas) (2.8.2)\n",
      "Requirement already satisfied: pytz>=2020.1 in /Users/mark/anaconda3/envs/dsfs/lib/python3.11/site-packages (from pandas) (2023.3.post1)\n",
      "Requirement already satisfied: tzdata>=2022.1 in /Users/mark/anaconda3/envs/dsfs/lib/python3.11/site-packages (from pandas) (2023.3)\n",
      "Requirement already satisfied: contourpy>=1.0.1 in /Users/mark/anaconda3/envs/dsfs/lib/python3.11/site-packages (from matplotlib) (1.2.0)\n",
      "Requirement already satisfied: cycler>=0.10 in /Users/mark/anaconda3/envs/dsfs/lib/python3.11/site-packages (from matplotlib) (0.12.1)\n",
      "Requirement already satisfied: fonttools>=4.22.0 in /Users/mark/anaconda3/envs/dsfs/lib/python3.11/site-packages (from matplotlib) (4.44.0)\n",
      "Requirement already satisfied: kiwisolver>=1.3.1 in /Users/mark/anaconda3/envs/dsfs/lib/python3.11/site-packages (from matplotlib) (1.4.5)\n",
      "Requirement already satisfied: packaging>=20.0 in /Users/mark/anaconda3/envs/dsfs/lib/python3.11/site-packages (from matplotlib) (23.2)\n",
      "Requirement already satisfied: pillow>=8 in /Users/mark/anaconda3/envs/dsfs/lib/python3.11/site-packages (from matplotlib) (10.1.0)\n",
      "Requirement already satisfied: pyparsing>=2.3.1 in /Users/mark/anaconda3/envs/dsfs/lib/python3.11/site-packages (from matplotlib) (3.1.1)\n",
      "Requirement already satisfied: six>=1.5 in /Users/mark/anaconda3/envs/dsfs/lib/python3.11/site-packages (from python-dateutil>=2.8.2->pandas) (1.16.0)\n",
      "Note: you may need to restart the kernel to use updated packages.\n"
     ]
    }
   ],
   "source": [
    "%pip install scikit-learn pandas numpy matplotlib\n",
    "import matplotlib.pyplot as plt\n",
    "import pandas as pd\n",
    "import numpy as np\n",
    "from sklearn.tree import DecisionTreeClassifier\n",
    "\n",
    "df = pd.read_csv('data/drug200.csv')\n",
    "\n",
    "# X = Feature Matrix\n",
    "X = df[['Age','Sex','BP','Cholesterol','Na_to_K']].values #.values converts the dataframe to a numpy array\n",
    "\n",
    "# Convert categorical variable into dummy/indicator variables\n",
    "from sklearn import preprocessing\n",
    "le = preprocessing.LabelEncoder()\n",
    "le.fit(['F','M'])\n",
    "X[:,1] = le.transform(X[:,1])\n",
    "\n",
    "le.fit([ 'LOW', 'NORMAL', 'HIGH'])\n",
    "X[:,2] = le.transform(X[:,2])\n",
    "\n",
    "le.fit([ 'NORMAL', 'HIGH'])\n",
    "X[:,3] = le.transform(X[:,3])\n",
    "\n",
    "# y = response vector(target variable)\n",
    "y = df['Drug']\n"
   ]
  },
  {
   "cell_type": "markdown",
   "metadata": {},
   "source": [
    "### Setting up the Decision Tree"
   ]
  },
  {
   "cell_type": "code",
   "execution_count": 11,
   "metadata": {},
   "outputs": [
    {
     "data": {
      "text/plain": [
       "((140, 5), (140,))"
      ]
     },
     "execution_count": 11,
     "metadata": {},
     "output_type": "execute_result"
    }
   ],
   "source": [
    "from sklearn.model_selection import train_test_split\n",
    "X_train, X_test, y_train, y_test = train_test_split(X, y, test_size=0.3, random_state=3)\n",
    "\n",
    "X_train.shape, y_train.shape"
   ]
  },
  {
   "cell_type": "markdown",
   "metadata": {},
   "source": [
    "#### Decision tree criteria options\t\n",
    "1.\tUse gini for general-purpose tasks where computational efficiency is key.\n",
    "2.\tUse entropy if you want splits that minimize randomness in the target variable (small classes may benefit).\n",
    "3.\tUse log_loss for probabilistic tasks or when working with predicted probabilities."
   ]
  },
  {
   "cell_type": "code",
   "execution_count": 14,
   "metadata": {},
   "outputs": [
    {
     "name": "stdout",
     "output_type": "stream",
     "text": [
      "['drugY' 'drugX' 'drugX' 'drugX' 'drugX']\n",
      "['drugY' 'drugX' 'drugX' 'drugX' 'drugX']\n"
     ]
    }
   ],
   "source": [
    "model = DecisionTreeClassifier(criterion=\"entropy\", max_depth = 4)\n",
    "model.fit(X_train,y_train)\n",
    "y_test_ = model.predict(X_test)\n",
    "print(y_test_[0:5])\n",
    "print(y_test[0:5].values)\n"
   ]
  },
  {
   "cell_type": "markdown",
   "metadata": {},
   "source": [
    "### Evaluation"
   ]
  },
  {
   "cell_type": "code",
   "execution_count": 15,
   "metadata": {},
   "outputs": [
    {
     "name": "stdout",
     "output_type": "stream",
     "text": [
      "DecisionTree's Training Data Accuracy:  1.0\n",
      "DecisionTree's Accuracy:  0.9833333333333333\n"
     ]
    }
   ],
   "source": [
    "from sklearn import metrics\n",
    "print(\"DecisionTree's Training Data Accuracy: \", metrics.accuracy_score(y_train, model.predict(X_train)))\n",
    "print(\"DecisionTree's Accuracy: \", metrics.accuracy_score(y_test, y_test_))"
   ]
  },
  {
   "cell_type": "code",
   "execution_count": 17,
   "metadata": {},
   "outputs": [],
   "source": [
    "from sklearn.tree import export_graphviz\n",
    "export_graphviz(model, out_file='tree.dot', filled=True, feature_names=['Age', 'Sex', 'BP', 'Cholesterol', 'Na_to_K'])\n",
    "!dot -Tpng tree.dot -o tree.png"
   ]
  }
 ],
 "metadata": {
  "kernelspec": {
   "display_name": "dsfs",
   "language": "python",
   "name": "python3"
  },
  "language_info": {
   "codemirror_mode": {
    "name": "ipython",
    "version": 3
   },
   "file_extension": ".py",
   "mimetype": "text/x-python",
   "name": "python",
   "nbconvert_exporter": "python",
   "pygments_lexer": "ipython3",
   "version": "3.11.5"
  }
 },
 "nbformat": 4,
 "nbformat_minor": 2
}
